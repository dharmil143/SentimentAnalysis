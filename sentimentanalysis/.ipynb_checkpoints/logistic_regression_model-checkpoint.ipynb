{
 "cells": [
  {
   "cell_type": "code",
   "execution_count": 1,
   "id": "d7d1173f",
   "metadata": {},
   "outputs": [],
   "source": [
    "import pandas as pd\n",
    "from sklearn.feature_extraction.text import CountVectorizer\n",
    "from sklearn.model_selection import train_test_split, GridSearchCV\n",
    "from sklearn.linear_model import LinearRegression\n",
    "from sklearn.linear_model import LogisticRegression\n",
    "from sklearn.preprocessing import StandardScaler\n",
    "import re\n",
    "from nltk.corpus import stopwords\n",
    "from nltk.stem import WordNetLemmatizer\n",
    "from sklearn.utils import shuffle\n",
    "from sklearn.metrics import confusion_matrix,f1_score,precision_score,recall_score\n",
    "wordnet_lemmatizer = WordNetLemmatizer()"
   ]
  },
  {
   "cell_type": "code",
   "execution_count": 2,
   "id": "7df97821",
   "metadata": {},
   "outputs": [],
   "source": [
    "df = pd.read_csv('Tweets.csv')"
   ]
  },
  {
   "cell_type": "code",
   "execution_count": 3,
   "id": "563d99f1",
   "metadata": {},
   "outputs": [
    {
     "data": {
      "text/plain": [
       "(14640, 15)"
      ]
     },
     "execution_count": 3,
     "metadata": {},
     "output_type": "execute_result"
    }
   ],
   "source": [
    "df.shape"
   ]
  },
  {
   "cell_type": "code",
   "execution_count": 4,
   "id": "f3ed4d24",
   "metadata": {},
   "outputs": [],
   "source": [
    "def normalizer(tweet):\n",
    "      only_letters = re.sub(\"[^a-zA-Z]\", \" \", tweet)\n",
    "      only_letters = only_letters.lower()\n",
    "      only_letters = only_letters.split()\n",
    "      filtered_result = [word for word in only_letters if word not in stopwords.words('english')]\n",
    "      lemmas = [wordnet_lemmatizer.lemmatize(t) for t in filtered_result]\n",
    "      lemmas = ' '.join(lemmas)\n",
    "      return lemmas"
   ]
  },
  {
   "cell_type": "code",
   "execution_count": null,
   "id": "7e93cd3a",
   "metadata": {},
   "outputs": [],
   "source": [
    "df = shuffle(df)\n",
    "y = df['airline_sentiment']\n",
    "x = df.text.apply(normalizer)"
   ]
  },
  {
   "cell_type": "code",
   "execution_count": null,
   "id": "0688dafa",
   "metadata": {},
   "outputs": [],
   "source": [
    "vectorizer = CountVectorizer()\n",
    "x_vectorized = vectorizer.fit_transform(x)"
   ]
  },
  {
   "cell_type": "code",
   "execution_count": null,
   "id": "a7603879",
   "metadata": {},
   "outputs": [],
   "source": [
    "train_x,val_x,train_y,val_y = train_test_split(x_vectorized,y)"
   ]
  },
  {
   "cell_type": "code",
   "execution_count": null,
   "id": "c81c3d03",
   "metadata": {},
   "outputs": [],
   "source": [
    "regressor = LogisticRegression(multi_class='multinomial', solver='newton-cg')\n",
    "model = regressor.fit(train_x, train_y)"
   ]
  },
  {
   "cell_type": "code",
   "execution_count": null,
   "id": "cae9c43c",
   "metadata": {},
   "outputs": [],
   "source": [
    "params = {'C': [0.001, 0.01, 0.1, 1, 10, 100, 1000] }\n",
    "gs_clf = GridSearchCV(model, params, n_jobs=1, cv=5)\n",
    "gs_clf = gs_clf.fit(train_x, train_y)\n",
    "model = gs_clf.best_estimator_"
   ]
  },
  {
   "cell_type": "code",
   "execution_count": null,
   "id": "9a3afd55",
   "metadata": {},
   "outputs": [],
   "source": [
    "y_pred = model.predict(val_x)\n",
    "\n",
    "_f1 = f1_score(val_y, y_pred, average='micro')\n",
    "_confusion = confusion_matrix(val_y, y_pred)\n",
    "__precision = precision_score(val_y, y_pred, average='micro')\n",
    "_recall = recall_score(val_y, y_pred, average='micro')\n",
    "_statistics = {'f1_score': _f1,\n",
    "               'confusion_matrix': _confusion,\n",
    "               'precision': __precision,\n",
    "               'recall': _recall\n",
    "              }"
   ]
  },
  {
   "cell_type": "code",
   "execution_count": null,
   "id": "5e21a911",
   "metadata": {},
   "outputs": [],
   "source": [
    "print(_statistics)"
   ]
  },
  {
   "cell_type": "code",
   "execution_count": null,
   "id": "e971c448",
   "metadata": {},
   "outputs": [],
   "source": [
    "test_feature = vectorizer.transform(['My tummy hurts every night'])\n",
    "model.predict(test_feature)"
   ]
  },
  {
   "cell_type": "code",
   "execution_count": null,
   "id": "ef299a13",
   "metadata": {},
   "outputs": [],
   "source": [
    "test_feature = vectorizer.transform(['Movie is bad'])\n",
    "model.predict(test_feature)"
   ]
  },
  {
   "cell_type": "code",
   "execution_count": null,
   "id": "df71ad58",
   "metadata": {
    "scrolled": true
   },
   "outputs": [],
   "source": [
    "test_feature = vectorizer.transform(['I am very bad'])\n",
    "model.predict(test_feature)"
   ]
  },
  {
   "cell_type": "code",
   "execution_count": null,
   "id": "f238d2c3",
   "metadata": {},
   "outputs": [],
   "source": [
    "import joblib\n",
    "joblibmodel = {'vectorizer': vectorizer,\n",
    "         'model': model\n",
    "         }\n",
    "filename = 'models.p'\n",
    "joblib.dump(joblibmodel, filename)"
   ]
  },
  {
   "cell_type": "code",
   "execution_count": null,
   "id": "68f41dd0",
   "metadata": {},
   "outputs": [],
   "source": []
  }
 ],
 "metadata": {
  "kernelspec": {
   "display_name": "Python 3 (ipykernel)",
   "language": "python",
   "name": "python3"
  },
  "language_info": {
   "codemirror_mode": {
    "name": "ipython",
    "version": 3
   },
   "file_extension": ".py",
   "mimetype": "text/x-python",
   "name": "python",
   "nbconvert_exporter": "python",
   "pygments_lexer": "ipython3",
   "version": "3.9.5"
  }
 },
 "nbformat": 4,
 "nbformat_minor": 5
}
